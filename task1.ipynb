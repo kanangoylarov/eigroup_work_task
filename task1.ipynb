{
 "cells": [
  {
   "cell_type": "code",
   "execution_count": 2,
   "metadata": {},
   "outputs": [],
   "source": [
    "import pandas as pd"
   ]
  },
  {
   "cell_type": "code",
   "execution_count": 11,
   "metadata": {},
   "outputs": [],
   "source": [
    "data = pd.read_csv('C:\\\\Users\\\\goyle\\\\Downloads\\\\Section-1-and-3-data\\\\Section 1 data.csv', encoding='utf-8')\n"
   ]
  },
  {
   "cell_type": "code",
   "execution_count": 12,
   "metadata": {},
   "outputs": [
    {
     "data": {
      "text/html": [
       "<div>\n",
       "<style scoped>\n",
       "    .dataframe tbody tr th:only-of-type {\n",
       "        vertical-align: middle;\n",
       "    }\n",
       "\n",
       "    .dataframe tbody tr th {\n",
       "        vertical-align: top;\n",
       "    }\n",
       "\n",
       "    .dataframe thead th {\n",
       "        text-align: right;\n",
       "    }\n",
       "</style>\n",
       "<table border=\"1\" class=\"dataframe\">\n",
       "  <thead>\n",
       "    <tr style=\"text-align: right;\">\n",
       "      <th></th>\n",
       "      <th>Review_Date</th>\n",
       "      <th>Review_Text</th>\n",
       "      <th>User_ID</th>\n",
       "      <th>Business_ID</th>\n",
       "      <th>Business_Name</th>\n",
       "      <th>Business_Category</th>\n",
       "      <th>City</th>\n",
       "      <th>State</th>\n",
       "      <th>Latitude</th>\n",
       "      <th>Longitude</th>\n",
       "      <th>Avg_Business_Star_Rating</th>\n",
       "    </tr>\n",
       "  </thead>\n",
       "  <tbody>\n",
       "    <tr>\n",
       "      <th>0</th>\n",
       "      <td>2014-07-16</td>\n",
       "      <td>okay...so so</td>\n",
       "      <td>6VxJJX7h36bMCCFt7URg6w</td>\n",
       "      <td>9QqLqYIwV-n1BJPjnaYv8A</td>\n",
       "      <td>Beef 'O' Brady's</td>\n",
       "      <td>Bars</td>\n",
       "      <td>Chandler</td>\n",
       "      <td>AZ</td>\n",
       "      <td>33.303847</td>\n",
       "      <td>-111.946838</td>\n",
       "      <td>3.5</td>\n",
       "    </tr>\n",
       "    <tr>\n",
       "      <th>1</th>\n",
       "      <td>2014-07-16</td>\n",
       "      <td>Some people complain about the prices but Subw...</td>\n",
       "      <td>viGPiPuMZnV4PR_aiA3-qw</td>\n",
       "      <td>pNQwnY_q4okdlnPiR-3RBA</td>\n",
       "      <td>Empire Bagels</td>\n",
       "      <td>Food</td>\n",
       "      <td>Las Vegas</td>\n",
       "      <td>NV</td>\n",
       "      <td>36.077299</td>\n",
       "      <td>-115.297979</td>\n",
       "      <td>3.5</td>\n",
       "    </tr>\n",
       "    <tr>\n",
       "      <th>2</th>\n",
       "      <td>2014-07-16</td>\n",
       "      <td>Had red curry chicken, the chicken itself was ...</td>\n",
       "      <td>rwehMCinfBjhZ0IbR1zFBw</td>\n",
       "      <td>shCdCHRbnY5FTMJbWl-myQ</td>\n",
       "      <td>Thai Spices</td>\n",
       "      <td>Thai</td>\n",
       "      <td>Mesa</td>\n",
       "      <td>AZ</td>\n",
       "      <td>33.412708</td>\n",
       "      <td>-111.875803</td>\n",
       "      <td>4.0</td>\n",
       "    </tr>\n",
       "    <tr>\n",
       "      <th>3</th>\n",
       "      <td>2014-07-16</td>\n",
       "      <td>Alright, I gave the restaurant manager ample t...</td>\n",
       "      <td>VWqt5IH8fm-k9M0CKFkJzg</td>\n",
       "      <td>HpaYCM_NCauI72LLXxC6SA</td>\n",
       "      <td>Yonaka Modern Japanese</td>\n",
       "      <td>Tapas/Small Plates</td>\n",
       "      <td>Las Vegas</td>\n",
       "      <td>NV</td>\n",
       "      <td>36.114935</td>\n",
       "      <td>-115.209737</td>\n",
       "      <td>4.5</td>\n",
       "    </tr>\n",
       "    <tr>\n",
       "      <th>4</th>\n",
       "      <td>2014-07-16</td>\n",
       "      <td>Blehhhh :/ this place shouldn't even be in bus...</td>\n",
       "      <td>Y6-0ToMhjBsm8iYEaT2meg</td>\n",
       "      <td>FC4q3hJyF8oo984xoo3RMg</td>\n",
       "      <td>808 Sushi</td>\n",
       "      <td>Sushi Bars</td>\n",
       "      <td>Las Vegas</td>\n",
       "      <td>NV</td>\n",
       "      <td>36.052181</td>\n",
       "      <td>-115.279227</td>\n",
       "      <td>3.5</td>\n",
       "    </tr>\n",
       "    <tr>\n",
       "      <th>...</th>\n",
       "      <td>...</td>\n",
       "      <td>...</td>\n",
       "      <td>...</td>\n",
       "      <td>...</td>\n",
       "      <td>...</td>\n",
       "      <td>...</td>\n",
       "      <td>...</td>\n",
       "      <td>...</td>\n",
       "      <td>...</td>\n",
       "      <td>...</td>\n",
       "      <td>...</td>\n",
       "    </tr>\n",
       "    <tr>\n",
       "      <th>227576</th>\n",
       "      <td>2005-03-08</td>\n",
       "      <td>It's not the Four Seasons, but more appropriat...</td>\n",
       "      <td>K4FAia2Iy5MVnmBLfS-mCg</td>\n",
       "      <td>WnY4HPJIYNXOPQH2mFzl2Q</td>\n",
       "      <td>THEhotel at Mandalay Bay</td>\n",
       "      <td>Hotels &amp; Travel</td>\n",
       "      <td>Las Vegas</td>\n",
       "      <td>NV</td>\n",
       "      <td>36.092988</td>\n",
       "      <td>-115.177838</td>\n",
       "      <td>4.0</td>\n",
       "    </tr>\n",
       "    <tr>\n",
       "      <th>227577</th>\n",
       "      <td>2005-03-03</td>\n",
       "      <td>There is nothing better than happy hour on the...</td>\n",
       "      <td>G8Q9rASB6YI2ICBkkpwvcw</td>\n",
       "      <td>RgBq9TFI8q6-vCvF6wOMVg</td>\n",
       "      <td>Genna's Lounge</td>\n",
       "      <td>Bars</td>\n",
       "      <td>Madison</td>\n",
       "      <td>WI</td>\n",
       "      <td>43.072720</td>\n",
       "      <td>-89.384389</td>\n",
       "      <td>4.0</td>\n",
       "    </tr>\n",
       "    <tr>\n",
       "      <th>227578</th>\n",
       "      <td>2005-03-03</td>\n",
       "      <td>Easily my favorite place to eat in Madison.  G...</td>\n",
       "      <td>8ITVDdfK07owxCA1x878Vw</td>\n",
       "      <td>3nwskbfFgsSjVe6T8keTeg</td>\n",
       "      <td>Lao Laan-Xang Restaurant</td>\n",
       "      <td>Thai</td>\n",
       "      <td>Madison</td>\n",
       "      <td>WI</td>\n",
       "      <td>43.083166</td>\n",
       "      <td>-89.364985</td>\n",
       "      <td>4.0</td>\n",
       "    </tr>\n",
       "    <tr>\n",
       "      <th>227579</th>\n",
       "      <td>2005-03-01</td>\n",
       "      <td>Spacious, luxurious rooms that definitely meri...</td>\n",
       "      <td>WPOKvkacSKHx_bIG1alFiA</td>\n",
       "      <td>-7yF42k0CcJhtPw51oaOqQ</td>\n",
       "      <td>Bellagio</td>\n",
       "      <td>Hotels &amp; Travel</td>\n",
       "      <td>Las Vegas</td>\n",
       "      <td>NV</td>\n",
       "      <td>36.112024</td>\n",
       "      <td>-115.174593</td>\n",
       "      <td>4.0</td>\n",
       "    </tr>\n",
       "    <tr>\n",
       "      <th>227580</th>\n",
       "      <td>2005-01-24</td>\n",
       "      <td>The buffet in this hotel is excellent! The set...</td>\n",
       "      <td>XR4cWlqS9qC25GMnNz0zlw</td>\n",
       "      <td>bYhpy9u8fKkGhYHtvYXazQ</td>\n",
       "      <td>Paris Las Vegas Hotel &amp; Casino</td>\n",
       "      <td>Hotels &amp; Travel</td>\n",
       "      <td>Las Vegas</td>\n",
       "      <td>NV</td>\n",
       "      <td>36.112629</td>\n",
       "      <td>-115.172653</td>\n",
       "      <td>3.0</td>\n",
       "    </tr>\n",
       "  </tbody>\n",
       "</table>\n",
       "<p>227581 rows × 11 columns</p>\n",
       "</div>"
      ],
      "text/plain": [
       "       Review_Date                                        Review_Text  \\\n",
       "0       2014-07-16                                       okay...so so   \n",
       "1       2014-07-16  Some people complain about the prices but Subw...   \n",
       "2       2014-07-16  Had red curry chicken, the chicken itself was ...   \n",
       "3       2014-07-16  Alright, I gave the restaurant manager ample t...   \n",
       "4       2014-07-16  Blehhhh :/ this place shouldn't even be in bus...   \n",
       "...            ...                                                ...   \n",
       "227576  2005-03-08  It's not the Four Seasons, but more appropriat...   \n",
       "227577  2005-03-03  There is nothing better than happy hour on the...   \n",
       "227578  2005-03-03  Easily my favorite place to eat in Madison.  G...   \n",
       "227579  2005-03-01  Spacious, luxurious rooms that definitely meri...   \n",
       "227580  2005-01-24  The buffet in this hotel is excellent! The set...   \n",
       "\n",
       "                       User_ID             Business_ID  \\\n",
       "0       6VxJJX7h36bMCCFt7URg6w  9QqLqYIwV-n1BJPjnaYv8A   \n",
       "1       viGPiPuMZnV4PR_aiA3-qw  pNQwnY_q4okdlnPiR-3RBA   \n",
       "2       rwehMCinfBjhZ0IbR1zFBw  shCdCHRbnY5FTMJbWl-myQ   \n",
       "3       VWqt5IH8fm-k9M0CKFkJzg  HpaYCM_NCauI72LLXxC6SA   \n",
       "4       Y6-0ToMhjBsm8iYEaT2meg  FC4q3hJyF8oo984xoo3RMg   \n",
       "...                        ...                     ...   \n",
       "227576  K4FAia2Iy5MVnmBLfS-mCg  WnY4HPJIYNXOPQH2mFzl2Q   \n",
       "227577  G8Q9rASB6YI2ICBkkpwvcw  RgBq9TFI8q6-vCvF6wOMVg   \n",
       "227578  8ITVDdfK07owxCA1x878Vw  3nwskbfFgsSjVe6T8keTeg   \n",
       "227579  WPOKvkacSKHx_bIG1alFiA  -7yF42k0CcJhtPw51oaOqQ   \n",
       "227580  XR4cWlqS9qC25GMnNz0zlw  bYhpy9u8fKkGhYHtvYXazQ   \n",
       "\n",
       "                         Business_Name   Business_Category       City State  \\\n",
       "0                     Beef 'O' Brady's                Bars   Chandler    AZ   \n",
       "1                        Empire Bagels                Food  Las Vegas    NV   \n",
       "2                          Thai Spices                Thai       Mesa    AZ   \n",
       "3               Yonaka Modern Japanese  Tapas/Small Plates  Las Vegas    NV   \n",
       "4                            808 Sushi          Sushi Bars  Las Vegas    NV   \n",
       "...                                ...                 ...        ...   ...   \n",
       "227576        THEhotel at Mandalay Bay     Hotels & Travel  Las Vegas    NV   \n",
       "227577                  Genna's Lounge                Bars    Madison    WI   \n",
       "227578        Lao Laan-Xang Restaurant                Thai    Madison    WI   \n",
       "227579                        Bellagio     Hotels & Travel  Las Vegas    NV   \n",
       "227580  Paris Las Vegas Hotel & Casino     Hotels & Travel  Las Vegas    NV   \n",
       "\n",
       "         Latitude   Longitude  Avg_Business_Star_Rating  \n",
       "0       33.303847 -111.946838                       3.5  \n",
       "1       36.077299 -115.297979                       3.5  \n",
       "2       33.412708 -111.875803                       4.0  \n",
       "3       36.114935 -115.209737                       4.5  \n",
       "4       36.052181 -115.279227                       3.5  \n",
       "...           ...         ...                       ...  \n",
       "227576  36.092988 -115.177838                       4.0  \n",
       "227577  43.072720  -89.384389                       4.0  \n",
       "227578  43.083166  -89.364985                       4.0  \n",
       "227579  36.112024 -115.174593                       4.0  \n",
       "227580  36.112629 -115.172653                       3.0  \n",
       "\n",
       "[227581 rows x 11 columns]"
      ]
     },
     "execution_count": 12,
     "metadata": {},
     "output_type": "execute_result"
    }
   ],
   "source": [
    "data"
   ]
  },
  {
   "cell_type": "code",
   "execution_count": 13,
   "metadata": {},
   "outputs": [
    {
     "name": "stdout",
     "output_type": "stream",
     "text": [
      "Number of unique restaurants: 30276\n"
     ]
    }
   ],
   "source": [
    "unique_restaurants = data['Business_ID'].nunique()\n",
    "print(f\"Number of unique restaurants: {unique_restaurants}\")"
   ]
  },
  {
   "cell_type": "code",
   "execution_count": 14,
   "metadata": {},
   "outputs": [
    {
     "name": "stdout",
     "output_type": "stream",
     "text": [
      "Restaurant with the highest number of reviews: 4bEjOyTaDG24SY5TxsaUNQ\n",
      "Percentage-wise reviews: 0.38%\n"
     ]
    }
   ],
   "source": [
    "\n",
    "reviews_per_restaurant = data.groupby('Business_ID').size().reset_index(name='Review_Count')\n",
    "\n",
    "\n",
    "max_reviews_restaurant = reviews_per_restaurant.loc[reviews_per_restaurant['Review_Count'].idxmax()]\n",
    "print(f\"Restaurant with the highest number of reviews: {max_reviews_restaurant['Business_ID']}\")\n",
    "\n",
    "\n",
    "total_reviews = data.shape[0]\n",
    "max_reviews_percentage = (max_reviews_restaurant['Review_Count'] / total_reviews) * 100\n",
    "print(f\"Percentage-wise reviews: {max_reviews_percentage:.2f}%\")\n"
   ]
  },
  {
   "cell_type": "code",
   "execution_count": 17,
   "metadata": {},
   "outputs": [
    {
     "name": "stdout",
     "output_type": "stream",
     "text": [
      "Cities in Nevada with at least one 5-star review: ['Las Vegas' 'Henderson' 'Boulder City' 'Nellis']\n"
     ]
    }
   ],
   "source": [
    "# Filter data for NV state and 5-star reviews\n",
    "nv_5_star_reviews = data[(data['State'] == 'NV') & (data['Avg_Business_Star_Rating'] == 5)]\n",
    "\n",
    "# Get the cities with at least one 5-star review\n",
    "cities_with_5_star_nv = nv_5_star_reviews['City'].unique()\n",
    "print(f\"Cities in Nevada with at least one 5-star review: {cities_with_5_star_nv}\")\n"
   ]
  },
  {
   "cell_type": "code",
   "execution_count": 18,
   "metadata": {},
   "outputs": [
    {
     "name": "stdout",
     "output_type": "stream",
     "text": [
      "City with the highest number of reviews in 'Hotels & Travel': Las Vegas\n",
      "Percentage-wise reviews: 77.64%\n"
     ]
    }
   ],
   "source": [
    "# Filter data for the \"Hotels & Travel\" category\n",
    "hotels_travel_data = data[data['Business_Category'] == 'Hotels & Travel']\n",
    "\n",
    "# Group by city and count the number of reviews\n",
    "reviews_per_city_hotels = hotels_travel_data.groupby('City').size().reset_index(name='Review_Count')\n",
    "\n",
    "# City with the highest number of reviews\n",
    "max_reviews_city = reviews_per_city_hotels.loc[reviews_per_city_hotels['Review_Count'].idxmax()]\n",
    "print(f\"City with the highest number of reviews in 'Hotels & Travel': {max_reviews_city['City']}\")\n",
    "\n",
    "# Percentage-wise review count\n",
    "total_reviews_hotels = hotels_travel_data.shape[0]\n",
    "max_reviews_city_percentage = (max_reviews_city['Review_Count'] / total_reviews_hotels) * 100\n",
    "print(f\"Percentage-wise reviews: {max_reviews_city_percentage:.2f}%\")\n"
   ]
  },
  {
   "cell_type": "code",
   "execution_count": 23,
   "metadata": {},
   "outputs": [
    {
     "name": "stdout",
     "output_type": "stream",
     "text": [
      "Reviews per day of the week: Day_of_Week\n",
      "Monday       36446\n",
      "Tuesday      34262\n",
      "Wednesday    34170\n",
      "Sunday       32889\n",
      "Thursday     30669\n",
      "Friday       29574\n",
      "Saturday     29571\n",
      "Name: count, dtype: int64\n"
     ]
    }
   ],
   "source": [
    "# Convert the 'Date' column to datetime if it's not already\n",
    "data['Review_Date'] = pd.to_datetime(data['Review_Date'])\n",
    "\n",
    "# Extract the day of the week\n",
    "data['Day_of_Week'] = data['Review_Date'].dt.day_name()\n",
    "\n",
    "# Count reviews for each day of the week\n",
    "reviews_per_day = data['Day_of_Week'].value_counts()\n",
    "print(f\"Reviews per day of the week: {reviews_per_day}\")\n"
   ]
  },
  {
   "cell_type": "code",
   "execution_count": 24,
   "metadata": {},
   "outputs": [
    {
     "data": {
      "image/png": "[encoded data removed]",
      "text/plain": [
       "<Figure size 640x480 with 1 Axes>"
      ]
     },
     "metadata": {},
     "output_type": "display_data"
    }
   ],
   "source": [
    "# Group by year and month to observe trends over time\n",
    "data['Year'] = data['Review_Date'].dt.year\n",
    "data['Month'] = data['Review_Date'].dt.month\n",
    "monthly_trends = data.groupby(['Year', 'Month']).size().reset_index(name='Review_Count')\n",
    "\n",
    "# Plotting the trends\n",
    "import matplotlib.pyplot as plt\n",
    "\n",
    "plt.plot(monthly_trends['Year'].astype(str) + '-' + monthly_trends['Month'].astype(str), monthly_trends['Review_Count'])\n",
    "plt.xlabel('Year-Month')\n",
    "plt.ylabel('Number of Reviews')\n",
    "plt.title('Trends in Restaurant Performance Over Time')\n",
    "plt.xticks(rotation=90)\n",
    "plt.show()\n"
   ]
  }
 ],
 "metadata": {
  "kernelspec": {
   "display_name": "Python 3",
   "language": "python",
   "name": "python3"
  },
  "language_info": {
   "codemirror_mode": {
    "name": "ipython",
    "version": 3
   },
   "file_extension": ".py",
   "mimetype": "text/x-python",
   "name": "python",
   "nbconvert_exporter": "python",
   "pygments_lexer": "ipython3",
   "version": "3.12.3"
  }
 },
 "nbformat": 4,
 "nbformat_minor": 2
}
